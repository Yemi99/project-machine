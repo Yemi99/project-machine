{
 "cells": [
  {
   "cell_type": "code",
   "execution_count": 23,
   "metadata": {},
   "outputs": [],
   "source": [
    "import os\n",
    "import requests\n",
    "import pandas as pd\n",
    "from dotenv import load_dotenv\n",
    "import alpaca_trade_api as tradeapi"
   ]
  },
  {
   "cell_type": "code",
   "execution_count": 24,
   "metadata": {},
   "outputs": [],
   "source": [
    "btc_url = \"https://api.alternative.me/v2/ticker/Bitcoin/?convert=USD\""
   ]
  },
  {
   "cell_type": "code",
   "execution_count": 25,
   "metadata": {},
   "outputs": [
    {
     "data": {
      "text/plain": [
       "True"
      ]
     },
     "execution_count": 25,
     "metadata": {},
     "output_type": "execute_result"
    }
   ],
   "source": [
    "load_dotenv()"
   ]
  },
  {
   "cell_type": "code",
   "execution_count": 26,
   "metadata": {},
   "outputs": [],
   "source": [
    "btc_response = requests.get(btc_url).json()\n",
    "btc_price = btc_response[\"data\"][\"1\"][\"quotes\"][\"USD\"][\"price\"]"
   ]
  },
  {
   "cell_type": "code",
   "execution_count": 27,
   "metadata": {},
   "outputs": [
    {
     "data": {
      "text/plain": [
       "29978.0"
      ]
     },
     "execution_count": 27,
     "metadata": {},
     "output_type": "execute_result"
    }
   ],
   "source": [
    "btc_price"
   ]
  },
  {
   "cell_type": "code",
   "execution_count": 40,
   "metadata": {},
   "outputs": [],
   "source": [
    "# Set Alpaca API key and secret\n",
    "alpaca_api_key = os.getenv('ALPACA_API_KEY')\n",
    "alpaca_secret_key = os.getenv('ALPACA_SECRET_KEY')\n",
    "\n",
    "# Create the Alpaca API object\n",
    "api = tradeapi.REST(\n",
    "    alpaca_api_key,\n",
    "    alpaca_secret_key,\n",
    "    api_version = 'v2'\n",
    ")"
   ]
  },
  {
   "cell_type": "code",
   "execution_count": 59,
   "metadata": {},
   "outputs": [
    {
     "data": {
      "text/html": [
       "<div>\n",
       "<style scoped>\n",
       "    .dataframe tbody tr th:only-of-type {\n",
       "        vertical-align: middle;\n",
       "    }\n",
       "\n",
       "    .dataframe tbody tr th {\n",
       "        vertical-align: top;\n",
       "    }\n",
       "\n",
       "    .dataframe thead th {\n",
       "        text-align: right;\n",
       "    }\n",
       "</style>\n",
       "<table border=\"1\" class=\"dataframe\">\n",
       "  <thead>\n",
       "    <tr style=\"text-align: right;\">\n",
       "      <th></th>\n",
       "      <th>open</th>\n",
       "      <th>high</th>\n",
       "      <th>low</th>\n",
       "      <th>close</th>\n",
       "      <th>volume</th>\n",
       "      <th>trade_count</th>\n",
       "      <th>vwap</th>\n",
       "      <th>symbol</th>\n",
       "    </tr>\n",
       "    <tr>\n",
       "      <th>timestamp</th>\n",
       "      <th></th>\n",
       "      <th></th>\n",
       "      <th></th>\n",
       "      <th></th>\n",
       "      <th></th>\n",
       "      <th></th>\n",
       "      <th></th>\n",
       "      <th></th>\n",
       "    </tr>\n",
       "  </thead>\n",
       "  <tbody>\n",
       "    <tr>\n",
       "      <th>2015-12-01 05:00:00+00:00</th>\n",
       "      <td>28.57</td>\n",
       "      <td>28.935</td>\n",
       "      <td>28.24</td>\n",
       "      <td>28.44</td>\n",
       "      <td>172987</td>\n",
       "      <td>1726</td>\n",
       "      <td>28.449667</td>\n",
       "      <td>ETH</td>\n",
       "    </tr>\n",
       "    <tr>\n",
       "      <th>2015-12-02 05:00:00+00:00</th>\n",
       "      <td>28.41</td>\n",
       "      <td>28.950</td>\n",
       "      <td>28.30</td>\n",
       "      <td>28.83</td>\n",
       "      <td>162629</td>\n",
       "      <td>1552</td>\n",
       "      <td>28.634814</td>\n",
       "      <td>ETH</td>\n",
       "    </tr>\n",
       "    <tr>\n",
       "      <th>2015-12-03 05:00:00+00:00</th>\n",
       "      <td>28.87</td>\n",
       "      <td>28.900</td>\n",
       "      <td>28.02</td>\n",
       "      <td>28.09</td>\n",
       "      <td>122823</td>\n",
       "      <td>1162</td>\n",
       "      <td>28.329750</td>\n",
       "      <td>ETH</td>\n",
       "    </tr>\n",
       "    <tr>\n",
       "      <th>2015-12-04 05:00:00+00:00</th>\n",
       "      <td>28.12</td>\n",
       "      <td>28.780</td>\n",
       "      <td>27.99</td>\n",
       "      <td>28.74</td>\n",
       "      <td>74512</td>\n",
       "      <td>814</td>\n",
       "      <td>28.521199</td>\n",
       "      <td>ETH</td>\n",
       "    </tr>\n",
       "    <tr>\n",
       "      <th>2015-12-07 05:00:00+00:00</th>\n",
       "      <td>28.58</td>\n",
       "      <td>28.700</td>\n",
       "      <td>28.28</td>\n",
       "      <td>28.46</td>\n",
       "      <td>104457</td>\n",
       "      <td>1121</td>\n",
       "      <td>28.456537</td>\n",
       "      <td>ETH</td>\n",
       "    </tr>\n",
       "  </tbody>\n",
       "</table>\n",
       "</div>"
      ],
      "text/plain": [
       "                            open    high    low  close  volume  trade_count  \\\n",
       "timestamp                                                                     \n",
       "2015-12-01 05:00:00+00:00  28.57  28.935  28.24  28.44  172987         1726   \n",
       "2015-12-02 05:00:00+00:00  28.41  28.950  28.30  28.83  162629         1552   \n",
       "2015-12-03 05:00:00+00:00  28.87  28.900  28.02  28.09  122823         1162   \n",
       "2015-12-04 05:00:00+00:00  28.12  28.780  27.99  28.74   74512          814   \n",
       "2015-12-07 05:00:00+00:00  28.58  28.700  28.28  28.46  104457         1121   \n",
       "\n",
       "                                vwap symbol  \n",
       "timestamp                                    \n",
       "2015-12-01 05:00:00+00:00  28.449667    ETH  \n",
       "2015-12-02 05:00:00+00:00  28.634814    ETH  \n",
       "2015-12-03 05:00:00+00:00  28.329750    ETH  \n",
       "2015-12-04 05:00:00+00:00  28.521199    ETH  \n",
       "2015-12-07 05:00:00+00:00  28.456537    ETH  "
      ]
     },
     "execution_count": 59,
     "metadata": {},
     "output_type": "execute_result"
    }
   ],
   "source": [
    "timeframe = '1Day'\n",
    "tickers = ['ETH']\n",
    "start_date = pd.Timestamp('2012-05-01', tz='America/New_York').isoformat()\n",
    "end_date = pd.Timestamp('2023-01-01', tz='America/New_York').isoformat()\n",
    "crypto_portfolio = alpaca.get_bars(\n",
    "    tickers,\n",
    "    timeframe,\n",
    "    start = start_date,\n",
    "    end = end_date\n",
    ").df\n",
    "crypto_portfolio.head()"
   ]
  },
  {
   "cell_type": "code",
   "execution_count": null,
   "metadata": {},
   "outputs": [],
   "source": []
  }
 ],
 "metadata": {
  "kernelspec": {
   "display_name": "base",
   "language": "python",
   "name": "python3"
  },
  "language_info": {
   "codemirror_mode": {
    "name": "ipython",
    "version": 3
   },
   "file_extension": ".py",
   "mimetype": "text/x-python",
   "name": "python",
   "nbconvert_exporter": "python",
   "pygments_lexer": "ipython3",
   "version": "3.9.13"
  },
  "orig_nbformat": 4
 },
 "nbformat": 4,
 "nbformat_minor": 2
}
